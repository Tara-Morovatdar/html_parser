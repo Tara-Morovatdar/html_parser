{
 "cells": [
  {
   "cell_type": "code",
   "execution_count": 1,
   "metadata": {},
   "outputs": [],
   "source": [
    "# install or upgrade the packages\n",
    "# restart the kernel to pick up the latest version\n",
    "#!pip install pixiedust --upgrade\n",
    "#!pip install pixiedust_node --upgrade"
   ]
  },
  {
   "cell_type": "code",
   "execution_count": 1,
   "metadata": {},
   "outputs": [
    {
     "name": "stdout",
     "output_type": "stream",
     "text": [
      "Pixiedust database opened successfully\n"
     ]
    },
    {
     "data": {
      "text/html": [
       "\n",
       "        <div style=\"margin:10px\">\n",
       "            <a href=\"https://github.com/ibm-watson-data-lab/pixiedust\" target=\"_new\">\n",
       "                <img src=\"https://github.com/ibm-watson-data-lab/pixiedust/raw/master/docs/_static/pd_icon32.png\" style=\"float:left;margin-right:10px\"/>\n",
       "            </a>\n",
       "            <span>Pixiedust version 1.1.18</span>\n",
       "        </div>\n",
       "        "
      ],
      "text/plain": [
       "<IPython.core.display.HTML object>"
      ]
     },
     "metadata": {},
     "output_type": "display_data"
    },
    {
     "data": {
      "text/html": [
       "\n",
       "            <div style=\"margin:10px\"> \n",
       "            <a href=\"https://github.com/ibm-cds-labs/pixiedust_node\" target=\"_new\"> \n",
       "            <img src=\"https://github.com/ibm-cds-labs/pixiedust_node/raw/master/docs/_images/pdn_icon32.png\" style=\"float:left;margin-right:10px\"/> \n",
       "            </a> \n",
       "            <span>Pixiedust Node.js</span> \n",
       "            </div> \n"
      ],
      "text/plain": [
       "<IPython.core.display.HTML object>"
      ]
     },
     "metadata": {},
     "output_type": "display_data"
    }
   ],
   "source": [
    "import pixiedust_node\n",
    "import json\n",
    "from bs4 import BeautifulSoup"
   ]
  },
  {
   "cell_type": "code",
   "execution_count": 4,
   "metadata": {},
   "outputs": [
    {
     "name": "stdout",
     "output_type": "stream",
     "text": [
      "SyntaxError: Identifier 'Mercury' has already been declared\n"
     ]
    }
   ],
   "source": [
    "%%node\n",
    "const Mercury = require('@postlight/mercury-parser');"
   ]
  },
  {
   "cell_type": "code",
   "execution_count": 5,
   "metadata": {},
   "outputs": [],
   "source": [
    "path='H:/parser/input/1.html'"
   ]
  },
  {
   "cell_type": "markdown",
   "metadata": {},
   "source": [
    "### Parse the HTML files and save the output in mercury_out"
   ]
  },
  {
   "cell_type": "code",
   "execution_count": 6,
   "metadata": {},
   "outputs": [
    {
     "name": "stdout",
     "output_type": "stream",
     "text": [
      "... ... ... ... ... ... ... ...\n"
     ]
    }
   ],
   "source": [
    "%%node\n",
    "function execute(path) {\n",
    "       var fs = require('fs');\n",
    "var contents = fs.readFileSync(path, 'utf8');\n",
    "\n",
    "return Mercury.parse( \"https://abcnews.go.com/US/california-couple-arrested-locking-toddlers-cages-police/story?id=62591859\" , {\n",
    "  html:\n",
    "   contents,\n",
    "});\n",
    "}"
   ]
  },
  {
   "cell_type": "code",
   "execution_count": 7,
   "metadata": {},
   "outputs": [
    {
     "name": "stdout",
     "output_type": "stream",
     "text": [
      "Iconv-lite warning: decode()-ing strings is deprecated. Refer to https://github.com/ashtuchkin/iconv-lite/wiki/Use-Buffers-when-decoding\n"
     ]
    }
   ],
   "source": [
    "%%node\n",
    "var data;\n",
    "execute(path).then(result => {data= result});"
   ]
  },
  {
   "cell_type": "code",
   "execution_count": 7,
   "metadata": {},
   "outputs": [],
   "source": [
    "#%%node\n",
    "#function execute(path) {\n",
    "#       var fs = require('fs');\n",
    "#var contents = fs.readFileSync(path, 'utf8');\n",
    "\n",
    "#Mercury.parse( \"https://abcnews.go.com/US/california-couple-arrested-locking-toddlers-cages-police/story?id=62591859\" , {\n",
    "#  html:\n",
    "#   contents,\n",
    "#}).then(result => fs.writeFileSync('H:/parser/mercury_out/1.json', JSON.stringify(result)));\n",
    "#}"
   ]
  },
  {
   "cell_type": "markdown",
   "metadata": {},
   "source": [
    "#### Parse just one HTML file"
   ]
  },
  {
   "cell_type": "code",
   "execution_count": 8,
   "metadata": {},
   "outputs": [],
   "source": [
    "#with open('H:/parser/mercury_out/10.json', encoding=\"utf8\") as json_file:\n",
    "   # data = json.load(json_file)\n",
    "   # print(data)"
   ]
  },
  {
   "cell_type": "code",
   "execution_count": 6,
   "metadata": {},
   "outputs": [],
   "source": [
    "def mercury_parser(article):\n",
    "    parsed_article={}    \n",
    "    parsed_article['title']=article['title']\n",
    "    parsed_article['excerpt']=article['excerpt']\n",
    "    parsed_article['author']=article['author']\n",
    "    parsed_article['domain']=article['domain']\n",
    "    soup = BeautifulSoup(data['content'])\n",
    "    text = soup.get_text()\n",
    "    parsed_article['content']=text\n",
    "    return parsed_article"
   ]
  },
  {
   "cell_type": "code",
   "execution_count": 7,
   "metadata": {},
   "outputs": [
    {
     "data": {
      "text/plain": [
       "{'title': 'Massive fire ravages Notre-Dame cathedral',\n",
       " 'excerpt': \"A major operation continues overnight at Paris' iconic Gothic building after the spire and roof collapsed.\",\n",
       " 'author': None,\n",
       " 'domain': 'www.bbc.com',\n",
       " 'content': '   Media playback is unsupported on your device  Media captionThere were gasps from the crowd at the moment Notre-Dame’s spire fell\\nA major fire has engulfed the medieval cathedral of Notre-Dame in Paris, one of France\\'s most famous landmarks. The 850-year-old Gothic building\\'s spire and roof have collapsed but the main structure, including the two bell towers, has been saved, officials say.Firefighters are still working to contain the blaze as teams try to salvage the artwork stored inside.President Emmanuel Macron called it a \"terrible tragedy\". The cause of the fire is not yet clear.Officials say it could be linked to the renovation work that began after cracks appeared in the stone, sparking fears the structure could become unstable.Paris prosecutor\\'s office said it had opened an inquiry into \"accidental destruction by fire\". A firefighter was seriously injured while tackling the blaze.Visibly emotional, Mr Macron said the \"worst had been avoided\" and vowed to launch an international fundraising scheme to rebuild the cathedral. How did the fire spread?The fire began at around 18:30 (16:30 GMT) and quickly reached the roof of the cathedral, destroying its stained-glass windows and the wooden interior before toppling the spire.          Some 500 firefighters worked to prevent one of the bell towers from collapsing. More than four hours later, fire chief Jean-Claude Gallet said the main structure had been \"saved and preserved\" from total destruction.Sections of the cathedral were under scaffolding as part of the extensive renovations and 16 copper statues had been removed last week.Deputy Paris Mayor Emmanuel Gregoire said the building had suffered \"colossal damages\", and teams were working to save the cathedral\\'s remaining artwork.   Media playback is unsupported on your device  Media captionThe fire department said a major operation was under way\\nHistorian Camille Pascal told French broadcaster BFMTV that \"invaluable heritage\" had been destroyed, adding: \"Happy and unfortunate events for centuries have been marked by the bells of Notre-Dame. We can be only horrified by what we see\".How have people reacted?Thousands of people gathered in the streets around the cathedral, observing the flames in silence. Some could be seen openly weeping, while others sang hymns or said prayers. Several churches around Paris rang their bells in response to the blaze, which happened as Catholics celebrate Holy Week.        \\n \\nBecause of the fire, Mr Macron cancelled a speech on TV in which he was due to address the street protests that have rocked France for months.Visiting the scene, the president said the cathedral was a building \"for all French people\", including those who had never been there. \"We\\'ll rebuild Notre-Dame together\", he said as he praised the \"extreme courage\" and \"professionalism\" of the firefighters.    A symbol of a countryAnalysis by Henri Astier, BBC World OnlineNo other site represents France quite like Notre-Dame. Its main rival as a national symbol, the Eiffel Tower, is little more than a century old. Notre-Dame has stood tall above Paris since the 1200s.It has given its name to one of the country\\'s literary masterpieces. Victor Hugo\\'s The Hunchback of Notre-Dame is known to the French simply as Notre-Dame de Paris.The last time the cathedral suffered major damage was during the French Revolution. It survived two world wars largely unscathed.Watching such an embodiment of the permanence of a nation burn and its spire collapse is profoundly shocking to any French person.    Facts about Notre-Dame \\nThe church receives almost 13 million visitors each year, more than the Eiffel Tower\\nA Unesco World Heritage site, it was built in the 12th and 13th centuries\\nSeveral statues of the facade of the Catholic cathedral were removed for renovation\\nThe roof, which has been destroyed by the blaze, was made mostly of wood\\nRead more about the treasures of the cathedral\\n   What has been the international reaction? The Vatican expressed \"shock and sadness,\" adding that it was praying for the French fire services.Germany\\'s Chancellor Angela Merkel has offered her support to the people of France, calling Notre-Dame a \"symbol of French and European culture\".UK Prime Minister Theresa May said in a tweet: \"My thoughts are with the people of France tonight and with the emergency services who are fighting the terrible blaze at Notre-Dame cathedral\".Also on Twitter, US President Donald Trump said it was \"horrible to watch\" the fire and suggested that \"flying water tankers\" could be used to extinguish the blaze.In an apparent response, the French Civil Security service said that was not an option as it might result in the collapse of the entire building. '}"
      ]
     },
     "execution_count": 7,
     "metadata": {},
     "output_type": "execute_result"
    }
   ],
   "source": [
    "mercury_parser(data)"
   ]
  },
  {
   "cell_type": "code",
   "execution_count": null,
   "metadata": {},
   "outputs": [],
   "source": []
  }
 ],
 "metadata": {
  "kernelspec": {
   "display_name": "Python 3",
   "language": "python",
   "name": "python3"
  },
  "language_info": {
   "codemirror_mode": {
    "name": "ipython",
    "version": 3
   },
   "file_extension": ".py",
   "mimetype": "text/x-python",
   "name": "python",
   "nbconvert_exporter": "python",
   "pygments_lexer": "ipython3",
   "version": "3.7.3"
  }
 },
 "nbformat": 4,
 "nbformat_minor": 2
}
